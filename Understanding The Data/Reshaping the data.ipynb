{
  "nbformat": 4,
  "nbformat_minor": 0,
  "metadata": {
    "colab": {
      "provenance": [],
      "collapsed_sections": []
    },
    "kernelspec": {
      "name": "python3",
      "display_name": "Python 3"
    },
    "language_info": {
      "name": "python"
    }
  },
  "cells": [
    {
      "cell_type": "code",
      "source": [
        "#Reshaping Dataset\n",
        "#Preprocess the data\n",
        "num_classes=10\n",
        "x_train=x_train.reshape(x_train.shape[0],28,28,1)\n",
        "x_test=x_test.reshape(x_test.shape[0],28,28,1)\n",
        "input_shape = (28,28,1)"
      ],
      "metadata": {
        "id": "QYKydOfuHRLZ"
      },
      "execution_count": 19,
      "outputs": []
    }
  ]
}