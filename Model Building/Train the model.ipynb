{
  "nbformat": 4,
  "nbformat_minor": 0,
  "metadata": {
    "colab": {
      "provenance": []
    },
    "kernelspec": {
      "name": "python3",
      "display_name": "Python 3"
    },
    "language_info": {
      "name": "python"
    }
  },
  "cells": [
    {
      "cell_type": "code",
      "source": [
        "#Train the model\n",
        "hist = model.fit(x_train, y_train,batch_size=20,epochs=5,verbose=1,validation_data=(x_test, y_test))"
      ],
      "metadata": {
        "colab": {
          "base_uri": "https://localhost:8080/"
        },
        "id": "mqSM3w2sJFe4",
        "outputId": "ce6b7db0-b01d-484a-c80f-607f3c5e430c"
      },
      "execution_count": null,
      "outputs": [
        {
          "output_type": "stream",
          "name": "stdout",
          "text": [
            "Epoch 1/5\n",
            "3000/3000 [==============================] - 229s 76ms/step - loss: 2.1810 - accuracy: 0.3175 - val_loss: 1.9819 - val_accuracy: 0.7165\n",
            "Epoch 2/5\n",
            "3000/3000 [==============================] - 227s 76ms/step - loss: 1.7478 - accuracy: 0.6036 - val_loss: 1.3542 - val_accuracy: 0.7788\n",
            "Epoch 3/5\n",
            "3000/3000 [==============================] - 228s 76ms/step - loss: 1.1958 - accuracy: 0.6954 - val_loss: 0.8358 - val_accuracy: 0.8239\n",
            "Epoch 4/5\n",
            "3000/3000 [==============================] - 223s 74ms/step - loss: 0.8753 - accuracy: 0.7474 - val_loss: 0.6115 - val_accuracy: 0.8491\n",
            "Epoch 5/5\n",
            "3000/3000 [==============================] - 223s 74ms/step - loss: 0.7234 - accuracy: 0.7811 - val_loss: 0.5068 - val_accuracy: 0.8654\n"
          ]
        }
      ]
    }
  ]
}