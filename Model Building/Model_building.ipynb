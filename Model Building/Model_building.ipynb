{
  "nbformat": 4,
  "nbformat_minor": 0,
  "metadata": {
    "colab": {
      "provenance": []
    },
    "kernelspec": {
      "name": "python3",
      "display_name": "Python 3"
    },
    "language_info": {
      "name": "python"
    }
  },
  "cells": [
    {
      "cell_type": "code",
      "source": [
        "#Adding Layers\n",
        "#Create the Model\n",
        "batch_size=128\n",
        "num_classes=10\n",
        "epochs=20\n",
        "model = Sequential()\n",
        "model.add(Conv2D(32, kernel_size=(3,3),activation='relu',input_shape=input_shape))\n",
        "model.add(Conv2D(64,(3,3),activation='relu'))\n",
        "model.add(MaxPooling2D(pool_size=(2,2)))\n",
        "model.add(Dropout(0.25))\n",
        "model.add(Flatten())\n",
        "model.add(Dense(256,activation='relu'))\n",
        "model.add(Dropout(0.5))\n",
        "model.add(Dense(num_classes,activation='softmax'))"
      ],
      "metadata": {
        "id": "Z5nDVcLQIzPK"
      },
      "execution_count": null,
      "outputs": []
    },
    {
      "cell_type": "code",
      "source": [
        "#Compiling the model\n",
        "model.compile(loss=keras.losses.categorical_crossentropy,optimizer=keras.optimizers.\n",
        "Adadelta(),metrics=['accuracy'])"
      ],
      "metadata": {
        "id": "s9HLqTrhI_Iw"
      },
      "execution_count": null,
      "outputs": []
    },
    {
      "cell_type": "code",
      "source": [
        "#Train the model\n",
        "hist = model.fit(x_train, y_train,batch_size=20,epochs=5,verbose=1,validation_data=(x_test, y_test))"
      ],
      "metadata": {
        "colab": {
          "base_uri": "https://localhost:8080/"
        },
        "id": "mqSM3w2sJFe4",
        "outputId": "ce6b7db0-b01d-484a-c80f-607f3c5e430c"
      },
      "execution_count": null,
      "outputs": [
        {
          "output_type": "stream",
          "name": "stdout",
          "text": [
            "Epoch 1/5\n",
            "3000/3000 [==============================] - 229s 76ms/step - loss: 2.1810 - accuracy: 0.3175 - val_loss: 1.9819 - val_accuracy: 0.7165\n",
            "Epoch 2/5\n",
            "3000/3000 [==============================] - 227s 76ms/step - loss: 1.7478 - accuracy: 0.6036 - val_loss: 1.3542 - val_accuracy: 0.7788\n",
            "Epoch 3/5\n",
            "3000/3000 [==============================] - 228s 76ms/step - loss: 1.1958 - accuracy: 0.6954 - val_loss: 0.8358 - val_accuracy: 0.8239\n",
            "Epoch 4/5\n",
            "3000/3000 [==============================] - 223s 74ms/step - loss: 0.8753 - accuracy: 0.7474 - val_loss: 0.6115 - val_accuracy: 0.8491\n",
            "Epoch 5/5\n",
            "3000/3000 [==============================] - 223s 74ms/step - loss: 0.7234 - accuracy: 0.7811 - val_loss: 0.5068 - val_accuracy: 0.8654\n"
          ]
        }
      ]
    },
    {
      "cell_type": "code",
      "source": [
        "#Observing The Metrics\n",
        "metrics = model.evaluate(x_test, y_test, verbose=0)\n",
        "print(\"Metrics(Loss and Accuracy):\")\n",
        "print(metrics)"
      ],
      "metadata": {
        "colab": {
          "base_uri": "https://localhost:8080/"
        },
        "id": "yXFP8l8bPx1b",
        "outputId": "3ab6bc63-85cd-4de3-cd58-1c74092b83de"
      },
      "execution_count": null,
      "outputs": [
        {
          "output_type": "stream",
          "name": "stdout",
          "text": [
            "Metrics(Loss and Accuracy):\n",
            "[0.5067759156227112, 0.8654000163078308]\n"
          ]
        }
      ]
    },
    {
      "cell_type": "code",
      "source": [
        "#Test the model\n",
        "prediction = model.predict(x_test[:4])\n",
        "print(prediction)"
      ],
      "metadata": {
        "colab": {
          "base_uri": "https://localhost:8080/"
        },
        "id": "VUDToBxiQC4q",
        "outputId": "f15cff33-052a-4132-be46-24c950cc12fb"
      },
      "execution_count": null,
      "outputs": [
        {
          "output_type": "stream",
          "name": "stdout",
          "text": [
            "1/1 [==============================] - 0s 111ms/step\n",
            "[[1.18316652e-03 6.54777046e-04 2.88228184e-04 3.99719551e-03\n",
            "  1.64188491e-03 7.98095716e-04 1.20877761e-04 9.83213007e-01\n",
            "  1.99386710e-03 6.10900577e-03]\n",
            " [1.20167257e-02 4.49562911e-03 6.94662094e-01 1.37630254e-01\n",
            "  1.06361411e-04 2.34117713e-02 1.06173731e-01 4.70910345e-05\n",
            "  2.13511679e-02 1.05228384e-04]\n",
            " [2.05710274e-03 9.10915077e-01 1.94862206e-02 1.12837330e-02\n",
            "  7.71390833e-03 3.92034184e-03 5.97504061e-03 1.45084700e-02\n",
            "  1.80215389e-02 6.11856673e-03]\n",
            " [9.48696077e-01 2.91711458e-05 1.40612049e-03 6.96549891e-03\n",
            "  3.35446617e-04 9.49487928e-03 2.84894984e-02 7.24729500e-04\n",
            "  2.84644100e-03 1.01209967e-03]]\n"
          ]
        }
      ]
    },
    {
      "cell_type": "code",
      "source": [
        "#save the model\n",
        "model.save('digit_classifier.h5')"
      ],
      "metadata": {
        "id": "PA499TaxQTsu"
      },
      "execution_count": null,
      "outputs": []
    },
    {
      "cell_type": "code",
      "source": [
        "#TEST WITH SAVED MODEL\n",
        "from keras.utils.image_utils import img_to_array\n",
        "from tensorflow.keras.models import load_model\n",
        "model = load_model('/content/digit_classifier.h5')\n",
        "from PIL import Image\n",
        "import numpy as np\n",
        "\n",
        "img = Image.open('/content/sample.png').convert(\"L\")\n",
        "img = img.resize((28,28))\n",
        "im2arr = np.array(img)\n",
        "im2arr = im2arr.reshape(1,28,28,1)\n",
        "\n",
        "#display the image\n",
        "import matplotlib.pyplot as plt\n",
        "plt.imshow(img)\n",
        "\n",
        "#predict the image\n",
        "y_predict = model.predict(im2arr)\n",
        "print(np.argmax(y_predict[0]))"
      ],
      "metadata": {
        "colab": {
          "base_uri": "https://localhost:8080/",
          "height": 301
        },
        "id": "cbVUmkIzQdhD",
        "outputId": "38392ef4-1a3b-409a-ae9d-748d155460a7"
      },
      "execution_count": null,
      "outputs": [
        {
          "output_type": "stream",
          "name": "stdout",
          "text": [
            "1/1 [==============================] - 0s 72ms/step\n",
            "2\n"
          ]
        },
        {
          "output_type": "display_data",
          "data": {
            "text/plain": [
              "<Figure size 432x288 with 1 Axes>"
            ],
            "image/png": "[encoded data removed]"
          },
          "metadata": {
            "needs_background": "light"
          }
        }
      ]
    }
  ]
}