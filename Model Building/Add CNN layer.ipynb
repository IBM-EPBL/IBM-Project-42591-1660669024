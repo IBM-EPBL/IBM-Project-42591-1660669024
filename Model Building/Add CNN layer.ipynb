{
  "nbformat": 4,
  "nbformat_minor": 0,
  "metadata": {
    "colab": {
      "provenance": [],
      "collapsed_sections": []
    },
    "kernelspec": {
      "name": "python3",
      "display_name": "Python 3"
    },
    "language_info": {
      "name": "python"
    }
  },
  "cells": [
    {
      "cell_type": "code",
      "source": [
        "#Add CNN layer\n",
        "batch_size=128\n",
        "num_classes=10\n",
        "epochs=20\n",
        "model = Sequential()\n",
        "model.add(Conv2D(32, kernel_size=(3,3),activation='relu',input_shape=input_shape))\n",
        "model.add(Conv2D(64,(3,3),activation='relu'))\n",
        "model.add(MaxPooling2D(pool_size=(2,2)))\n",
        "model.add(Dropout(0.25))\n",
        "model.add(Flatten())\n",
        "model.add(Dense(256,activation='relu'))\n",
        "model.add(Dropout(0.5))\n",
        "model.add(Dense(num_classes,activation='softmax'))"
      ],
      "metadata": {
        "id": "944tJJ8Mhs-x"
      },
      "execution_count": 24,
      "outputs": []
    }
  ]
}