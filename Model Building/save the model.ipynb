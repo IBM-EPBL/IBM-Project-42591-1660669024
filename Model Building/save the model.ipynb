{
  "nbformat": 4,
  "nbformat_minor": 0,
  "metadata": {
    "colab": {
      "provenance": [],
      "collapsed_sections": []
    },
    "kernelspec": {
      "name": "python3",
      "display_name": "Python 3"
    },
    "language_info": {
      "name": "python"
    }
  },
  "cells": [
    {
      "cell_type": "code",
      "source": [
        "#save the model\n",
        "model.save('digit_classifier.h5')"
      ],
      "metadata": {
        "id": "PA499TaxQTsu"
      },
      "execution_count": null,
      "outputs": []
    }
  ]
}