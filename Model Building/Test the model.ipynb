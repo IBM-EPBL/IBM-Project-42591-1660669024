{
  "nbformat": 4,
  "nbformat_minor": 0,
  "metadata": {
    "colab": {
      "provenance": [],
      "collapsed_sections": []
    },
    "kernelspec": {
      "name": "python3",
      "display_name": "Python 3"
    },
    "language_info": {
      "name": "python"
    }
  },
  "cells": [
    {
      "cell_type": "code",
      "source": [
        "#Test the model\n",
        "prediction = model.predict(x_test[:4])\n",
        "print(prediction)"
      ],
      "metadata": {
        "colab": {
          "base_uri": "https://localhost:8080/"
        },
        "id": "VUDToBxiQC4q",
        "outputId": "f15cff33-052a-4132-be46-24c950cc12fb"
      },
      "execution_count": null,
      "outputs": [
        {
          "output_type": "stream",
          "name": "stdout",
          "text": [
            "1/1 [==============================] - 0s 111ms/step\n",
            "[[1.18316652e-03 6.54777046e-04 2.88228184e-04 3.99719551e-03\n",
            "  1.64188491e-03 7.98095716e-04 1.20877761e-04 9.83213007e-01\n",
            "  1.99386710e-03 6.10900577e-03]\n",
            " [1.20167257e-02 4.49562911e-03 6.94662094e-01 1.37630254e-01\n",
            "  1.06361411e-04 2.34117713e-02 1.06173731e-01 4.70910345e-05\n",
            "  2.13511679e-02 1.05228384e-04]\n",
            " [2.05710274e-03 9.10915077e-01 1.94862206e-02 1.12837330e-02\n",
            "  7.71390833e-03 3.92034184e-03 5.97504061e-03 1.45084700e-02\n",
            "  1.80215389e-02 6.11856673e-03]\n",
            " [9.48696077e-01 2.91711458e-05 1.40612049e-03 6.96549891e-03\n",
            "  3.35446617e-04 9.49487928e-03 2.84894984e-02 7.24729500e-04\n",
            "  2.84644100e-03 1.01209967e-03]]\n"
          ]
        }
      ]
    }
  ]
}