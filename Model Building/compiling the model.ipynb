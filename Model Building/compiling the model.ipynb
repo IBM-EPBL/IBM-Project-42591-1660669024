{
  "nbformat": 4,
  "nbformat_minor": 0,
  "metadata": {
    "colab": {
      "provenance": [],
      "collapsed_sections": []
    },
    "kernelspec": {
      "name": "python3",
      "display_name": "Python 3"
    },
    "language_info": {
      "name": "python"
    }
  },
  "cells": [
    {
      "cell_type": "code",
      "source": [
        "#compiling the model\n",
        "model.compile(loss=keras.losses.categorical_crossentropy,optimizer=keras.optimizers.\n",
        "Adadelta(),metrics=['accuracy'])"
      ],
      "metadata": {
        "id": "v6XFXFcyjc5m"
      },
      "execution_count": 29,
      "outputs": []
    }
  ]
}